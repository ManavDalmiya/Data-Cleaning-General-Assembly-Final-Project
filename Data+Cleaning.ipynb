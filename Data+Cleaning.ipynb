{
 "cells": [
  {
   "cell_type": "markdown",
   "metadata": {},
   "source": [
    "# Bimbo Group - Inventory Demand Challenge - Merged and Cleaned Datasets"
   ]
  },
  {
   "cell_type": "code",
   "execution_count": 1,
   "metadata": {
    "collapsed": false
   },
   "outputs": [],
   "source": [
    "# IMPORT PACKAGES (SKLEARN, PANDAS, NUMPY, MATPLOTLIB)\n",
    "from sklearn import datasets\n",
    "from sklearn import metrics\n",
    "import pandas as pd\n",
    "import numpy as np\n",
    "\n",
    "import matplotlib.pyplot as plt\n",
    "%matplotlib inline"
   ]
  },
  {
   "cell_type": "code",
   "execution_count": 2,
   "metadata": {
    "collapsed": false
   },
   "outputs": [],
   "source": [
    "#Import Sampled Train dataset --> 74k out of 7.4 million\n",
    "train_data = pd.read_csv('Datasets/TrainSample.csv', low_memory=False)"
   ]
  },
  {
   "cell_type": "code",
   "execution_count": 3,
   "metadata": {
    "collapsed": false
   },
   "outputs": [],
   "source": [
    "#Remove First to Columns\n",
    "train_data = train_data.iloc[:,2:]"
   ]
  },
  {
   "cell_type": "code",
   "execution_count": 4,
   "metadata": {
    "collapsed": false
   },
   "outputs": [
    {
     "data": {
      "text/plain": [
       "Index([u'Semana', u'Agencia_ID', u'Canal_ID', u'Ruta_SAK', u'Cliente_ID',\n",
       "       u'Producto_ID', u'Venta_uni_hoy', u'Venta_hoy', u'Dev_uni_proxima',\n",
       "       u'Dev_proxima', u'Demanda_uni_equil'],\n",
       "      dtype='object')"
      ]
     },
     "execution_count": 4,
     "metadata": {},
     "output_type": "execute_result"
    }
   ],
   "source": [
    "# Verify Data\n",
    "train_data.columns"
   ]
  },
  {
   "cell_type": "code",
   "execution_count": 5,
   "metadata": {
    "collapsed": false
   },
   "outputs": [],
   "source": [
    "# Rename Columns\n",
    "train_data.columns = ['Week_number','Sales_Depot_ID','Sales_Channel_ID','Route_ID','Client_ID',\n",
    "'Product_ID','Weekly_Sales_Units','Weekly_Sales', 'Returns_Units_Next_Week_Int','Returns_Units_Next_Week_Pesos','Adjusted_Demand']"
   ]
  },
  {
   "cell_type": "code",
   "execution_count": 6,
   "metadata": {
    "collapsed": false
   },
   "outputs": [
    {
     "data": {
      "text/html": [
       "<div>\n",
       "<table border=\"1\" class=\"dataframe\">\n",
       "  <thead>\n",
       "    <tr style=\"text-align: right;\">\n",
       "      <th></th>\n",
       "      <th>Week_number</th>\n",
       "      <th>Sales_Depot_ID</th>\n",
       "      <th>Sales_Channel_ID</th>\n",
       "      <th>Route_ID</th>\n",
       "      <th>Client_ID</th>\n",
       "      <th>Product_ID</th>\n",
       "      <th>Weekly_Sales_Units</th>\n",
       "      <th>Weekly_Sales</th>\n",
       "      <th>Returns_Units_Next_Week_Int</th>\n",
       "      <th>Returns_Units_Next_Week_Pesos</th>\n",
       "      <th>Adjusted_Demand</th>\n",
       "    </tr>\n",
       "  </thead>\n",
       "  <tbody>\n",
       "    <tr>\n",
       "      <th>0</th>\n",
       "      <td>3</td>\n",
       "      <td>1544</td>\n",
       "      <td>1</td>\n",
       "      <td>1232</td>\n",
       "      <td>524192</td>\n",
       "      <td>1284</td>\n",
       "      <td>2</td>\n",
       "      <td>6.04</td>\n",
       "      <td>0</td>\n",
       "      <td>0.0</td>\n",
       "      <td>2</td>\n",
       "    </tr>\n",
       "    <tr>\n",
       "      <th>1</th>\n",
       "      <td>7</td>\n",
       "      <td>1384</td>\n",
       "      <td>1</td>\n",
       "      <td>2003</td>\n",
       "      <td>946897</td>\n",
       "      <td>43147</td>\n",
       "      <td>6</td>\n",
       "      <td>27.24</td>\n",
       "      <td>0</td>\n",
       "      <td>0.0</td>\n",
       "      <td>6</td>\n",
       "    </tr>\n",
       "    <tr>\n",
       "      <th>2</th>\n",
       "      <td>7</td>\n",
       "      <td>1453</td>\n",
       "      <td>1</td>\n",
       "      <td>1106</td>\n",
       "      <td>10412</td>\n",
       "      <td>43209</td>\n",
       "      <td>2</td>\n",
       "      <td>13.52</td>\n",
       "      <td>0</td>\n",
       "      <td>0.0</td>\n",
       "      <td>2</td>\n",
       "    </tr>\n",
       "    <tr>\n",
       "      <th>3</th>\n",
       "      <td>6</td>\n",
       "      <td>1632</td>\n",
       "      <td>1</td>\n",
       "      <td>2806</td>\n",
       "      <td>4391557</td>\n",
       "      <td>31512</td>\n",
       "      <td>2</td>\n",
       "      <td>19.98</td>\n",
       "      <td>0</td>\n",
       "      <td>0.0</td>\n",
       "      <td>2</td>\n",
       "    </tr>\n",
       "    <tr>\n",
       "      <th>4</th>\n",
       "      <td>5</td>\n",
       "      <td>1625</td>\n",
       "      <td>1</td>\n",
       "      <td>1290</td>\n",
       "      <td>4448338</td>\n",
       "      <td>1232</td>\n",
       "      <td>1</td>\n",
       "      <td>18.24</td>\n",
       "      <td>0</td>\n",
       "      <td>0.0</td>\n",
       "      <td>1</td>\n",
       "    </tr>\n",
       "    <tr>\n",
       "      <th>5</th>\n",
       "      <td>6</td>\n",
       "      <td>2055</td>\n",
       "      <td>1</td>\n",
       "      <td>1258</td>\n",
       "      <td>1479145</td>\n",
       "      <td>1232</td>\n",
       "      <td>2</td>\n",
       "      <td>36.48</td>\n",
       "      <td>0</td>\n",
       "      <td>0.0</td>\n",
       "      <td>2</td>\n",
       "    </tr>\n",
       "    <tr>\n",
       "      <th>6</th>\n",
       "      <td>5</td>\n",
       "      <td>1629</td>\n",
       "      <td>1</td>\n",
       "      <td>1243</td>\n",
       "      <td>1991344</td>\n",
       "      <td>1250</td>\n",
       "      <td>3</td>\n",
       "      <td>22.92</td>\n",
       "      <td>0</td>\n",
       "      <td>0.0</td>\n",
       "      <td>3</td>\n",
       "    </tr>\n",
       "    <tr>\n",
       "      <th>7</th>\n",
       "      <td>6</td>\n",
       "      <td>2044</td>\n",
       "      <td>1</td>\n",
       "      <td>1232</td>\n",
       "      <td>1312249</td>\n",
       "      <td>2425</td>\n",
       "      <td>21</td>\n",
       "      <td>94.50</td>\n",
       "      <td>0</td>\n",
       "      <td>0.0</td>\n",
       "      <td>21</td>\n",
       "    </tr>\n",
       "    <tr>\n",
       "      <th>8</th>\n",
       "      <td>5</td>\n",
       "      <td>1336</td>\n",
       "      <td>1</td>\n",
       "      <td>1153</td>\n",
       "      <td>19987</td>\n",
       "      <td>35651</td>\n",
       "      <td>20</td>\n",
       "      <td>150.00</td>\n",
       "      <td>0</td>\n",
       "      <td>0.0</td>\n",
       "      <td>20</td>\n",
       "    </tr>\n",
       "    <tr>\n",
       "      <th>9</th>\n",
       "      <td>3</td>\n",
       "      <td>1347</td>\n",
       "      <td>1</td>\n",
       "      <td>2055</td>\n",
       "      <td>134894</td>\n",
       "      <td>43285</td>\n",
       "      <td>10</td>\n",
       "      <td>52.80</td>\n",
       "      <td>0</td>\n",
       "      <td>0.0</td>\n",
       "      <td>10</td>\n",
       "    </tr>\n",
       "  </tbody>\n",
       "</table>\n",
       "</div>"
      ],
      "text/plain": [
       "   Week_number  Sales_Depot_ID  Sales_Channel_ID  Route_ID  Client_ID  \\\n",
       "0            3            1544                 1      1232     524192   \n",
       "1            7            1384                 1      2003     946897   \n",
       "2            7            1453                 1      1106      10412   \n",
       "3            6            1632                 1      2806    4391557   \n",
       "4            5            1625                 1      1290    4448338   \n",
       "5            6            2055                 1      1258    1479145   \n",
       "6            5            1629                 1      1243    1991344   \n",
       "7            6            2044                 1      1232    1312249   \n",
       "8            5            1336                 1      1153      19987   \n",
       "9            3            1347                 1      2055     134894   \n",
       "\n",
       "   Product_ID  Weekly_Sales_Units  Weekly_Sales  Returns_Units_Next_Week_Int  \\\n",
       "0        1284                   2          6.04                            0   \n",
       "1       43147                   6         27.24                            0   \n",
       "2       43209                   2         13.52                            0   \n",
       "3       31512                   2         19.98                            0   \n",
       "4        1232                   1         18.24                            0   \n",
       "5        1232                   2         36.48                            0   \n",
       "6        1250                   3         22.92                            0   \n",
       "7        2425                  21         94.50                            0   \n",
       "8       35651                  20        150.00                            0   \n",
       "9       43285                  10         52.80                            0   \n",
       "\n",
       "   Returns_Units_Next_Week_Pesos  Adjusted_Demand  \n",
       "0                            0.0                2  \n",
       "1                            0.0                6  \n",
       "2                            0.0                2  \n",
       "3                            0.0                2  \n",
       "4                            0.0                1  \n",
       "5                            0.0                2  \n",
       "6                            0.0                3  \n",
       "7                            0.0               21  \n",
       "8                            0.0               20  \n",
       "9                            0.0               10  "
      ]
     },
     "execution_count": 6,
     "metadata": {},
     "output_type": "execute_result"
    }
   ],
   "source": [
    "#Train_data: View first 10 rows of data\n",
    "train_data.head(10)"
   ]
  },
  {
   "cell_type": "code",
   "execution_count": 7,
   "metadata": {
    "collapsed": false
   },
   "outputs": [
    {
     "data": {
      "text/plain": [
       "(74180, 11)"
      ]
     },
     "execution_count": 7,
     "metadata": {},
     "output_type": "execute_result"
    }
   ],
   "source": [
    "#Train_data: Shape\n",
    "train_data.shape"
   ]
  },
  {
   "cell_type": "code",
   "execution_count": 8,
   "metadata": {
    "collapsed": false
   },
   "outputs": [
    {
     "data": {
      "text/html": [
       "<div>\n",
       "<table border=\"1\" class=\"dataframe\">\n",
       "  <thead>\n",
       "    <tr style=\"text-align: right;\">\n",
       "      <th></th>\n",
       "      <th>Weekly_Sales_Units</th>\n",
       "      <th>Weekly_Sales</th>\n",
       "      <th>Returns_Units_Next_Week_Int</th>\n",
       "      <th>Returns_Units_Next_Week_Pesos</th>\n",
       "      <th>Adjusted_Demand</th>\n",
       "    </tr>\n",
       "  </thead>\n",
       "  <tbody>\n",
       "    <tr>\n",
       "      <th>count</th>\n",
       "      <td>74180.000000</td>\n",
       "      <td>74180.000000</td>\n",
       "      <td>74180.000000</td>\n",
       "      <td>74180.000000</td>\n",
       "      <td>74180.000000</td>\n",
       "    </tr>\n",
       "    <tr>\n",
       "      <th>mean</th>\n",
       "      <td>7.315840</td>\n",
       "      <td>68.334624</td>\n",
       "      <td>0.125182</td>\n",
       "      <td>1.225872</td>\n",
       "      <td>7.230197</td>\n",
       "    </tr>\n",
       "    <tr>\n",
       "      <th>std</th>\n",
       "      <td>19.445801</td>\n",
       "      <td>278.934861</td>\n",
       "      <td>1.975372</td>\n",
       "      <td>19.213114</td>\n",
       "      <td>19.273091</td>\n",
       "    </tr>\n",
       "    <tr>\n",
       "      <th>min</th>\n",
       "      <td>0.000000</td>\n",
       "      <td>0.000000</td>\n",
       "      <td>0.000000</td>\n",
       "      <td>0.000000</td>\n",
       "      <td>0.000000</td>\n",
       "    </tr>\n",
       "    <tr>\n",
       "      <th>25%</th>\n",
       "      <td>2.000000</td>\n",
       "      <td>16.760000</td>\n",
       "      <td>0.000000</td>\n",
       "      <td>0.000000</td>\n",
       "      <td>2.000000</td>\n",
       "    </tr>\n",
       "    <tr>\n",
       "      <th>50%</th>\n",
       "      <td>3.000000</td>\n",
       "      <td>30.000000</td>\n",
       "      <td>0.000000</td>\n",
       "      <td>0.000000</td>\n",
       "      <td>3.000000</td>\n",
       "    </tr>\n",
       "    <tr>\n",
       "      <th>75%</th>\n",
       "      <td>7.000000</td>\n",
       "      <td>56.100000</td>\n",
       "      <td>0.000000</td>\n",
       "      <td>0.000000</td>\n",
       "      <td>6.000000</td>\n",
       "    </tr>\n",
       "    <tr>\n",
       "      <th>max</th>\n",
       "      <td>1195.000000</td>\n",
       "      <td>20314.800000</td>\n",
       "      <td>247.000000</td>\n",
       "      <td>2436.000000</td>\n",
       "      <td>1195.000000</td>\n",
       "    </tr>\n",
       "  </tbody>\n",
       "</table>\n",
       "</div>"
      ],
      "text/plain": [
       "       Weekly_Sales_Units  Weekly_Sales  Returns_Units_Next_Week_Int  \\\n",
       "count        74180.000000  74180.000000                 74180.000000   \n",
       "mean             7.315840     68.334624                     0.125182   \n",
       "std             19.445801    278.934861                     1.975372   \n",
       "min              0.000000      0.000000                     0.000000   \n",
       "25%              2.000000     16.760000                     0.000000   \n",
       "50%              3.000000     30.000000                     0.000000   \n",
       "75%              7.000000     56.100000                     0.000000   \n",
       "max           1195.000000  20314.800000                   247.000000   \n",
       "\n",
       "       Returns_Units_Next_Week_Pesos  Adjusted_Demand  \n",
       "count                   74180.000000     74180.000000  \n",
       "mean                        1.225872         7.230197  \n",
       "std                        19.213114        19.273091  \n",
       "min                         0.000000         0.000000  \n",
       "25%                         0.000000         2.000000  \n",
       "50%                         0.000000         3.000000  \n",
       "75%                         0.000000         6.000000  \n",
       "max                      2436.000000      1195.000000  "
      ]
     },
     "execution_count": 8,
     "metadata": {},
     "output_type": "execute_result"
    }
   ],
   "source": [
    "# SUMMARY STATISTICS FOR TRAIN DATASET:\n",
    "train_data.iloc[:,6:].describe()"
   ]
  },
  {
   "cell_type": "code",
   "execution_count": 9,
   "metadata": {
    "collapsed": false
   },
   "outputs": [
    {
     "name": "stdout",
     "output_type": "stream",
     "text": [
      "   Client_ID                              Client_Name\n",
      "0          0                               SIN NOMBRE\n",
      "1          1                         OXXO XINANTECATL\n",
      "2          2                               SIN NOMBRE\n",
      "3          3                                EL MORENO\n",
      "4          4  SDN SER  DE ALIM  CUERPO SA CIA  DE INT\n",
      "5          4     SDN SER DE ALIM CUERPO SA CIA DE INT\n",
      "6          5                               LA VAQUITA\n",
      "7          6                                   LUPITA\n",
      "8          7                             I M EL GUERO\n",
      "9          8                     MINI SUPER LOS LUPES\n"
     ]
    }
   ],
   "source": [
    "#Import and Rename Client Table data --> all 935k\n",
    "client_table = pd.read_csv('Datasets/cliente_tabla.csv', low_memory=False)\n",
    "client_table.columns = ['Client_ID', 'Client_Name']\n",
    "print client_table.head(10)"
   ]
  },
  {
   "cell_type": "code",
   "execution_count": 10,
   "metadata": {
    "collapsed": false
   },
   "outputs": [
    {
     "data": {
      "text/plain": [
       "(935362, 2)"
      ]
     },
     "execution_count": 10,
     "metadata": {},
     "output_type": "execute_result"
    }
   ],
   "source": [
    "client_table.shape"
   ]
  },
  {
   "cell_type": "code",
   "execution_count": 11,
   "metadata": {
    "collapsed": true
   },
   "outputs": [],
   "source": [
    "# CODE FROM KERNEL: MAKE ALL STRING VALUES UPPER CASE\n",
    "client_table['Client_Name'] = client_table['Client_Name'].str.upper()"
   ]
  },
  {
   "cell_type": "code",
   "execution_count": 12,
   "metadata": {
    "collapsed": false
   },
   "outputs": [
    {
     "data": {
      "text/plain": [
       "NO IDENTIFICADO    281670\n",
       "LUPITA               4863\n",
       "MARY                 3016\n",
       "LA PASADITA          2426\n",
       "LA VENTANITA         2267\n",
       "LA GUADALUPANA       1299\n",
       "ROSY                 1246\n",
       "ALEX                 1242\n",
       "GABY                 1238\n",
       "LA ESCONDIDA         1216\n",
       "PATY                 1145\n",
       "LA ESPERANZA         1139\n",
       "HERNANDEZ            1129\n",
       "LA CHIQUITA          1118\n",
       "DANY                 1082\n",
       "GARCIA               1062\n",
       "JUQUILITA            1022\n",
       "MARTINEZ              987\n",
       "LA TIENDITA           914\n",
       "3 HERMANOS            913\n",
       "DIANA                 894\n",
       "MI TIENDITA           881\n",
       "SAN JOSE              851\n",
       "LA PROVIDENCIA        842\n",
       "GONZALEZ              826\n",
       "DICONSA               823\n",
       "LA ESQUINA            816\n",
       "LUCY                  792\n",
       "LETY                  776\n",
       "GLORIA                714\n",
       "                    ...  \n",
       "LORENA                260\n",
       "RUBI                  258\n",
       "WENDY                 257\n",
       "VICTORIA              257\n",
       "TERESA                256\n",
       "VERONICA              256\n",
       "CECY                  253\n",
       "LAS GEMELAS           252\n",
       "LA BODEGUITA          250\n",
       "MARIBEL               249\n",
       "RUIZ                  249\n",
       "EL CRUCERO            249\n",
       "LUZ                   248\n",
       "EL SOL                248\n",
       "LA POBLANITA          248\n",
       "CHAYITO               247\n",
       "MONICA                244\n",
       "ALMA                  244\n",
       "EL PARAISO            242\n",
       "JOSEFINA              242\n",
       "VENTANITA             242\n",
       "4 HERMANOS            242\n",
       "FLOR                  241\n",
       "FANY                  240\n",
       "ROSSY                 240\n",
       "ORTIZ                 239\n",
       "LA CURVA              238\n",
       "RIVERA                238\n",
       "TANIA                 238\n",
       "JUAREZ                236\n",
       "Name: Client_Name, dtype: int64"
      ]
     },
     "execution_count": 12,
     "metadata": {},
     "output_type": "execute_result"
    }
   ],
   "source": [
    "# CODE FROM KERNEL: VALUE COUNTS ON FIRST 200 ROWS\n",
    "client_table['Client_Name'].value_counts()[0:200]"
   ]
  },
  {
   "cell_type": "code",
   "execution_count": 13,
   "metadata": {
    "collapsed": true
   },
   "outputs": [],
   "source": [
    "# TF-IDF Score List:\n",
    "# Input: client_table (dataframe), list_len (?)\n",
    "# Output: ?\n",
    "def tfidf_score_list(client_table, list_len):\n",
    "    # Import TfidfVectorizer function from sklearn.feature_extraction.text\n",
    "    from sklearn.feature_extraction.text import TfidfVectorizer\n",
    "    \n",
    "    # v <- TfidfVectorizer \n",
    "    v = TfidfVectorizer()\n",
    "\n",
    "    # \"New\" column erted into client_table (df)\n",
    "    client_table['New'] = 'na'\n",
    "    # Joins \"Client Name\" on empty df\n",
    "    a = \" \".join(client_table['Client_Name'])\n",
    "    # Renames new column with values from  \"Client Name\" \n",
    "    client_table['New'][0] = a\n",
    "\n",
    "    # TFIDF - Fit  Transform on client_table['New'] \n",
    "    tfidf = v.fit_transform(client_table['New'])\n",
    "\n",
    "    # define feature names \n",
    "    feature_names = v.get_feature_names()\n",
    "\n",
    "    \n",
    "    # define freq as empty array\n",
    "    freq = []\n",
    "    # define object doc equal to 0.\n",
    "    doc = 0\n",
    "    #  define feature index as first row of TFIDT array\n",
    "    # array has been sorted for nonzero ?? --> figure out shape of TFIDF array\n",
    "    feature_index = tfidf[doc,:].nonzero()[1]\n",
    "    tfidf_scores = zip(feature_index, [tfidf[doc, x] for x in feature_index])\n",
    "    for w, s in [(feature_names[i], s) for (i, s) in tfidf_scores]:\n",
    "            freq.append((w.encode('utf-8'),s))\n",
    "    \n",
    "    del client_table['New']\n",
    "    \n",
    "    import numpy as np\n",
    "    names = ['word','score']\n",
    "    formats = ['S50','f8']\n",
    "    dtype = dict(names = names, formats=formats)\n",
    "    array = np.array(freq, dtype=dtype)\n",
    "\n",
    "    b = np.sort(array, order='score')\n",
    "    \n",
    "    if list_len > len(b)+1:\n",
    "        list_len = len(b)+1\n",
    "    for i in range(1,list_len):\n",
    "        print(b[-i])"
   ]
  },
  {
   "cell_type": "code",
   "execution_count": 14,
   "metadata": {
    "collapsed": false
   },
   "outputs": [
    {
     "name": "stderr",
     "output_type": "stream",
     "text": [
      "/Users/OldMacBook/anaconda/lib/python2.7/site-packages/ipykernel/__main__.py:16: SettingWithCopyWarning: \n",
      "A value is trying to be set on a copy of a slice from a DataFrame\n",
      "\n",
      "See the caveats in the documentation: http://pandas.pydata.org/pandas-docs/stable/indexing.html#indexing-view-versus-copy\n"
     ]
    },
    {
     "name": "stdout",
     "output_type": "stream",
     "text": [
      "('no', 0.6888126004392261)\n",
      "('identificado', 0.6849292193079914)\n",
      "('la', 0.14990532034891804)\n",
      "('el', 0.08328478631483191)\n",
      "('abarrotes', 0.08000932333188071)\n",
      "('de', 0.060769929775006254)\n",
      "('maria', 0.046819424108197776)\n",
      "('miscelanea', 0.038050812737357366)\n",
      "('super', 0.035203324130797714)\n",
      "('los', 0.028416525923361337)\n",
      "('san', 0.02574168607091418)\n",
      "('oxxo', 0.022573216682060866)\n",
      "('del', 0.0216686344774151)\n",
      "('garcia', 0.021376833766239046)\n",
      "('hernandez', 0.020995061169117042)\n",
      "('jose', 0.01983515334219223)\n",
      "('lupita', 0.019261278610212658)\n",
      "('gonzalez', 0.017758504947655986)\n",
      "('martinez', 0.017646648008371832)\n",
      "('lopez', 0.01715058679937254)\n",
      "('mini', 0.015331695699708473)\n",
      "('rodriguez', 0.01489156296035126)\n",
      "('las', 0.013889713851980142)\n",
      "('don', 0.01254256723538403)\n",
      "('comodin', 0.012384508516830334)\n",
      "('guadalupe', 0.012357760118305862)\n",
      "('mary', 0.012270219904953047)\n",
      "('jesus', 0.012024620973046535)\n",
      "('ramirez', 0.01199544090192893)\n",
      "('juan', 0.011966260830811324)\n",
      "('casa', 0.011929785741914316)\n",
      "('ag', 0.011820360475223297)\n",
      "('sanchez', 0.011567466525537383)\n",
      "('perez', 0.011192988946194783)\n",
      "('farmacia', 0.011115175423214501)\n",
      "('hermanos', 0.01088173485427366)\n",
      "('cruz', 0.010424580406764508)\n",
      "('flores', 0.009619696778437227)\n",
      "('mi', 0.008992325249408713)\n",
      "('rosa', 0.008676207812301322)\n",
      "('carmen', 0.008549760837458365)\n",
      "('diconsa', 0.008435472225581078)\n",
      "('papeleria', 0.008204463329233368)\n",
      "('luis', 0.008189873293674566)\n",
      "('torres', 0.00791509429065045)\n",
      "('tienda', 0.007907799272871047)\n",
      "('ventanita', 0.007778920625434958)\n",
      "('ii', 0.0073387878860777436)\n",
      "('gomez', 0.007270701053469998)\n",
      "('pasadita', 0.00726583770828373)\n",
      "('cremeria', 0.00722693094679359)\n",
      "('reyes', 0.007141822406033908)\n",
      "('francisco', 0.0066603512325934195)\n",
      "('antonio', 0.006655487887407152)\n",
      "('esperanza', 0.006653056214814018)\n",
      "('ana', 0.0066506245422208845)\n",
      "('puesto', 0.006555789311088667)\n",
      "('martha', 0.006529040912564195)\n",
      "('luz', 0.0064755441155152525)\n",
      "('santa', 0.006453659062177048)\n",
      "('angel', 0.006293168671030218)\n",
      "('vazquez', 0.006271283617692015)\n",
      "('gutierrez', 0.006174016713966664)\n",
      "('hamburguesas', 0.006154563333221593)\n",
      "('tiendita', 0.006059728102089376)\n",
      "('diaz', 0.005938144472432687)\n",
      "('miguel', 0.00579224411684466)\n",
      "('jimenez', 0.005648775433849768)\n",
      "('escuela', 0.005602573654580226)\n",
      "('gloria', 0.005558803547903818)\n",
      "('centro', 0.005527191804193078)\n",
      "('misc', 0.005403176501943256)\n",
      "('manuel', 0.005400744829350122)\n",
      "('elena', 0.00530347792562477)\n",
      "('angeles', 0.005293751235252236)\n",
      "('ma', 0.005174599278188681)\n",
      "('morales', 0.005145419207071075)\n",
      "('abts', 0.005121102481139737)\n",
      "('teresa', 0.004958180417399775)\n",
      "('ruiz', 0.004909546965537099)\n",
      "('margarita', 0.004839028460336219)\n",
      "('juana', 0.004804985044032347)\n",
      "('guadalupana', 0.0047685099551353395)\n",
      "('chavez', 0.0047587832647628045)\n",
      "('alex', 0.004683401414375657)\n",
      "('do\\xc3\\xb1a', 0.0046712430514099885)\n",
      "('carniceria', 0.00463963130769925)\n",
      "('martin', 0.0046226095995473135)\n",
      "('isabel', 0.004610451236581644)\n",
      "('mendoza', 0.004513184332856293)\n",
      "('alicia', 0.004413485756537808)\n",
      "('aguilar', 0.004396464048385872)\n",
      "('carlos', 0.00433080888837126)\n",
      "('fruteria', 0.0043040604898467874)\n",
      "('gaby', 0.004270017073542916)\n",
      "('rosy', 0.004265153728356647)\n",
      "('nueva', 0.004235973657239042)\n",
      "('estrella', 0.004165455152038163)\n",
      "('deposito', 0.004141138426106825)\n",
      "('juarez', 0.0041289800631411555)\n",
      "('alvarez', 0.004082778283871614)\n",
      "('moreno', 0.004056029885347142)\n",
      "('cafeteria', 0.004053598212754008)\n",
      "('ortiz', 0.0040317131594158045)\n",
      "('rivera', 0.004000101415705066)\n",
      "('castillo', 0.003978216362366862)\n",
      "('dany', 0.0039538996364355235)\n",
      "('pedro', 0.003888244476420912)\n",
      "('luna', 0.003888244476420912)\n",
      "('paty', 0.0038712227682689755)\n",
      "('secundaria', 0.003722890740087815)\n",
      "('guzman', 0.0036815523060045405)\n",
      "('dulces', 0.0036402138719212667)\n",
      "('providencia', 0.003618328818583062)\n",
      "('escondida', 0.00360373878302426)\n",
      "('rosario', 0.003569695366720387)\n",
      "('diana', 0.0035186302422645778)\n",
      "('ramos', 0.0035064718792989086)\n",
      "('chiquita', 0.003484586825960705)\n",
      "('express', 0.003477291808181303)\n",
      "('medina', 0.0034748601355881694)\n",
      "('reyna', 0.003445680064470564)\n",
      "('esc', 0.003445680064470564)\n",
      "('juquilita', 0.0033994782852010226)\n",
      "('laura', 0.003377593231862819)\n",
      "('sol', 0.003363003196304016)\n",
      "('romero', 0.0033459814881520796)\n",
      "('flor', 0.003341118142965812)\n",
      "('silvia', 0.0032997797088825374)\n",
      "('rosita', 0.0032900530185100024)\n",
      "('minisuper', 0.0032851896733237344)\n",
      "('blanca', 0.0032657362925786644)\n",
      "('jorge', 0.003258441274799263)\n",
      "('javier', 0.003253577929612996)\n",
      "('modelorama', 0.003238987894054193)\n",
      "('leon', 0.0031976494599709184)\n",
      "('guerrero', 0.0031976494599709184)\n",
      "('fe', 0.0031903544421915176)\n",
      "('vargas', 0.0031222676095837717)\n",
      "('eleven', 0.003012842342892752)\n",
      "('victoria', 0.0029909572895545477)\n",
      "('castro', 0.002930165474726203)\n",
      "('loncheria', 0.0029058487487948655)\n",
      "('tres', 0.0028985537310154638)\n",
      "('esquina', 0.002888827040642929)\n",
      "('angelica', 0.002888827040642929)\n",
      "('leticia', 0.0028450569339665208)\n",
      "('josefina', 0.0028304668984077182)\n",
      "('mercado', 0.0028037184998832465)\n",
      "('lucy', 0.002789128464324444)\n",
      "('irma', 0.0027769701013587752)\n",
      "('mendez', 0.002769675083579374)\n",
      "('lety', 0.002769675083579374)\n",
      "('vinos', 0.0027672434109862402)\n",
      "('comercial', 0.002764811738393106)\n",
      "('claudia', 0.0027575167206137048)\n",
      "('espinoza', 0.002735631667275501)\n",
      "('tere', 0.002721041631716698)\n",
      "('yolanda', 0.002713746613937297)\n",
      "('villa', 0.002701588250971628)\n",
      "('esmeralda', 0.0026894298880059593)\n",
      "('herrera', 0.0026748398524471563)\n",
      "('luisa', 0.002667544834667755)\n",
      "('restaurant', 0.0026651131620746213)\n",
      "('licores', 0.0026602498168883538)\n",
      "('doa', 0.00265781814429522)\n",
      "('expendio', 0.0026310697457707483)\n",
      "('hotel', 0.002599458002060009)\n",
      "('dios', 0.002592162984280608)\n",
      "('juanita', 0.0025872996390943403)\n",
      "('colegio', 0.0025872996390943403)\n",
      "('valle', 0.0025751412761286716)\n",
      "('dulceria', 0.0025654145857561365)\n",
      "('primaria', 0.002555687895383601)\n",
      "('caseta', 0.0025532562227904673)\n",
      "('local', 0.0025508245501973336)\n",
      "('hot', 0.002545961205011066)\n",
      "('contreras', 0.002536234514638531)\n",
      "('estrada', 0.0025289394968591294)\n",
      "('anita', 0.0025192128064865944)\n",
      "('velazquez', 0.002514349461300327)\n",
      "('karen', 0.0024973277531483906)\n",
      "('salvador', 0.0024778743724033206)\n",
      "('rocio', 0.0024535576464719826)\n",
      "('cv', 0.0024438309560994476)\n",
      "('alejandra', 0.0024316725931337784)\n",
      "('consumo', 0.0024195142301681096)\n",
      "('socorro', 0.0024122192123887084)\n",
      "('rafael', 0.0023879024864573704)\n",
      "('comedor', 0.0023854708138642366)\n",
      "('patricia', 0.0023757441234917016)\n",
      "('ab', 0.002370880778305434)\n",
      "('sa', 0.002363585760526033)\n",
      "('jugos', 0.0023562907427466316)\n",
      "('rio', 0.0023538590701534974)\n",
      "('lourdes', 0.0023417007071878286)\n",
      "('ortega', 0.002339269034594695)\n",
      "('salazar', 0.00232954234422216)\n",
      "('plaza', 0.002327110671629026)\n"
     ]
    }
   ],
   "source": [
    "# PRINT TFIDF SCORE LIST:\n",
    "tfidf_score_list(client_table, 200)"
   ]
  },
  {
   "cell_type": "code",
   "execution_count": 15,
   "metadata": {
    "collapsed": false
   },
   "outputs": [
    {
     "name": "stdout",
     "output_type": "stream",
     "text": [
      "        Client_ID                           Client_Name\n",
      "78           1438                 CAFETRIA PREPARATORIA\n",
      "1095         5045         CAFETERIA DE LA SECUNDARIA 13\n",
      "1098         5048                     CAFETERIA PREPA 2\n",
      "1233         5416                             CAFETERIA\n",
      "1318         5612        CAFETERIA NORMAL DE PROFESORES\n",
      "1446         5908      CAFETERIA FACULTAD DE PSICOLOGIA\n",
      "2005         7463                  CAFETERIA DE LA UAEM\n",
      "2150         7922                       ICATI CAFETERIA\n",
      "2306         8317         CAFETERIA FACULTAD DE DERECHO\n",
      "2308         8319  CAFETERIA FACULTAD DE ADMINISTRACION\n",
      "2573         8979                             CAFETERIA\n",
      "2864         9956                               LA CAFE\n",
      "3147        10753                  CAFETERIA LA CARRETA\n",
      "3207        10844                  CAFETERIA EL JUBILEO\n",
      "3209        10846                  CAFETERIA LA CENTRAL\n",
      "3240        10913                  CAFETERIA DON ARTURO\n",
      "3243        10918                     CAFETERIA COLISEO\n",
      "3701        12031                            CAFE PARIS\n",
      "4346        13751                    CAFETERIA FACULTAD\n",
      "4766        15397                          RUSTICO CAFE\n",
      "4827        15629                         CAFE LA TORRE\n",
      "5491        17024          CAFETERIA PREPA 7 VESPERTINO\n",
      "5597        17252           CAFETERIA HOSPITAL TRINIDAD\n",
      "5910        17912                CAFE EL NUEVO HUATUSCO\n",
      "5926        17965                              CAFE P Z\n",
      "5979        18075     CAFETERIA UNIVERSIDAD INSURGENTES\n",
      "6047        18253                    CAFE LA BLANCA S A\n",
      "6207        18641                  HOSPITAL 2 CAFETERIA\n",
      "6461        19287         CAFETERIA UNIVERSIDAD TEPEYAC\n",
      "6485        19335        CAFETERIA ESCUELA NORNAL NO 10\n",
      "...           ...                                   ...\n",
      "926558    8137969          COLEGIO MIRASIERRA CAFETERIA\n",
      "926815    8145857                       ETI 5 CAFETERIA\n",
      "926963    8151480                    CIBER CAFE DENISSE\n",
      "927565    8175134              CAFETERIA REGIOS CENTRAL\n",
      "928299    8205167              CAFETERIA SITIO DE TAXIS\n",
      "928449    8210873                              AEROCAFE\n",
      "929049    8234198                CAFE INTERNET PACIFICO\n",
      "929110    8236711                      CAFETERIA FRAGOS\n",
      "929372    8250865                       CIBER CAFE NINO\n",
      "929511    8266059                       CAFETERIA LORAY\n",
      "929792    8276937                        CAFETERIA ADYS\n",
      "929895    8280710            RESTAURANTE CAFE LA FIESTA\n",
      "930155    8293191                  EL NUEVO WILLIS CAFE\n",
      "930235    8295611              CIBER CAFE MUNDO VIRTUAL\n",
      "931042    8390606          CAFETERIA ESTHER INT CONALEP\n",
      "931043    8390606         CAFETERIA ESTHER INT  CONALEP\n",
      "931148    8397676                           CAFE RUBENS\n",
      "931826    8565291                       CAFE SAN RAFAEL\n",
      "932328    9484515       SDN CAFETERIA2 2DA ZONA MILITAR\n",
      "932581    9506908                             CAFE TINA\n",
      "932801    9521368                         CAFETERIA MIX\n",
      "932977    9537141                           CAFE LUNNAH\n",
      "933415    9574912                 CAFETERIA CLUB CHIVAS\n",
      "933907    9622671                        CAFE LA GLORIA\n",
      "934245    9655254              CAFETERIA EXTENCION RIOS\n",
      "934488    9678492               CAFETERIA LA CASA VIEJA\n",
      "934720    9693686              SECUNDARIA 7 CAFETERIA 2\n",
      "934786    9702948                     NUEVO CAFE AZTECA\n",
      "934942    9711388                       CAFETERIA SALOM\n",
      "935214    9746888                     CAFETERIA LA VACA\n",
      "\n",
      "[2508 rows x 2 columns]\n"
     ]
    }
   ],
   "source": [
    "# PRINT ELEMENTS OF CLIENT_NAMES LIST THAT CONTAIN *CAFE*\n",
    "print(client_table[client_table['Client_Name'].str.contains('.*CAFE.*')])"
   ]
  },
  {
   "cell_type": "code",
   "execution_count": 16,
   "metadata": {
    "collapsed": true
   },
   "outputs": [],
   "source": [
    "# FILTER CLIENT NAME VALUES\n",
    "\n",
    "def filter_specific(vf2):\n",
    "    client_table['Client_Name'] = client_table['Client_Name'].str.replace('.*REMISION.*','Consignment')\n",
    "    client_table['Client_Name'] = client_table['Client_Name'].replace(['.*WAL MART.*','.*SAMS CLUB.*'],'Walmart', regex=True)\n",
    "    client_table['Client_Name'] = client_table['Client_Name'].str.replace('.*OXXO.*','Oxxo Store')\n",
    "    client_table['Client_Name'] = client_table['Client_Name'].str.replace('.*CONASUPO.*','Govt Store')\n",
    "    client_table['Client_Name'] = client_table['Client_Name'].str.replace('.*BIMBO.*','Bimbo Store')\n",
    "    client_table['Client_Name'] = client_table['Client_Name'].replace(['.*COLEG.*','.*UNIV.*','.*ESCU.*','.*INSTI.*',\\\n",
    "                                                        '.*PREPAR.*'],'School', regex=True)\n",
    "    client_table['Client_Name'] = client_table['Client_Name'].str.replace('.*PUESTO.*','Post')\n",
    "    client_table['Client_Name'] = client_table['Client_Name'].replace(['.*FARMA.*','.*HOSPITAL.*','.*CLINI.*'],'Hospital/Pharmacy', regex=True)\n",
    "    client_table['Client_Name'] = client_table['Client_Name'].replace(['.*CAFE.*','.*CREMERIA.*','.*DULCERIA.*',\\\n",
    "                                                        '.*REST.*','.*BURGER.*','.*TACO.*', '.*TORTA.*',\\\n",
    "                                                        '.*TAQUER.*','.*HOT DOG.*',\\\n",
    "                                                        '.*COMEDOR.*', '.*ERIA.*','.*BURGU.*'],'Eatery', regex=True)\n",
    "    client_table['Client_Name'] = client_table['Client_Name'].str.replace('.*SUPER.*','Supermarket')\n",
    "    client_table['Client_Name'] = client_table['Client_Name'].replace(['.*COMERCIAL.*','.*BODEGA.*','.*DEPOSITO.*',\\\n",
    "                                                            '.*ABARROTES.*','.*MERCADO.*','.*CAMBIO.*',\\\n",
    "                                                        '.*MARKET.*','.*MART .*','.*MINI .*',\\\n",
    "                                                        '.*PLAZA.*','.*MISC.*','.*ELEVEN.*','.*EXP.*',\\\n",
    "                                                         '.*SNACK.*', '.*PAPELERIA.*', '.*CARNICERIA.*',\\\n",
    "                                                         '.*LOCAL.*','.*COMODIN.*','.*PROVIDENCIA.*'\n",
    "                                                        ],'General Market/Mart'\\\n",
    "                                                       , regex=True)\n",
    "    client_table['Client_Name'] = client_table['Client_Name'].replace(['.*VERDU.*','.*FRUT.*'],'Fresh Market', regex=True)\n",
    "    client_table['Client_Name'] = client_table['Client_Name'].replace(['.*HOTEL.*','.*MOTEL.*'],'Hotel', regex=True)"
   ]
  },
  {
   "cell_type": "code",
   "execution_count": 17,
   "metadata": {
    "collapsed": false
   },
   "outputs": [],
   "source": [
    "# CALL FILTER_SPECIFIC FUNCTION\n",
    "filter_specific(client_table)"
   ]
  },
  {
   "cell_type": "code",
   "execution_count": 18,
   "metadata": {
    "collapsed": true
   },
   "outputs": [],
   "source": [
    "# --- Begin filtering for more general terms\n",
    "# The idea here is to look for names with particles of speech that would\n",
    "# not appear in a person's name.\n",
    "# i.e. \"Individuals\" should not contain any participles or numbers in their names.\n",
    "def filter_participle(client_table):\n",
    "    client_table['Client_Name'] = client_table['Client_Name'].replace([\n",
    "            '.*LA .*','.*EL .*','.*DE .*','.*LOS .*','.*DEL .*','.*Y .*', '.*SAN .*', '.*SANTA .*',\\\n",
    "            '.*AG .*','.*LAS .*','.*MI .*','.*MA .*', '.*II.*', '.*[0-9]+.*'\\\n",
    "    ],'Small Franchise', regex=True)"
   ]
  },
  {
   "cell_type": "code",
   "execution_count": 19,
   "metadata": {
    "collapsed": false
   },
   "outputs": [],
   "source": [
    "# CALL FILTER_PARTICIPLE FUNCTION\n",
    "filter_participle(client_table)"
   ]
  },
  {
   "cell_type": "code",
   "execution_count": 20,
   "metadata": {
    "collapsed": true
   },
   "outputs": [],
   "source": [
    "# Any remaining entries should be \"Individual\" Named Clients, there are some outliers.\n",
    "# More specific filters could be used in order to reduce the percentage of outliers in this final set.\n",
    "def filter_remaining(client_table):\n",
    "    def function_word(data):\n",
    "        # Avoid the single-words created so far by checking for upper-case\n",
    "        if (data.isupper()) and (data != \"NO IDENTIFICADO\"): \n",
    "            return 'Individual'\n",
    "        else:\n",
    "            return data\n",
    "    client_table['Client_Name'] = client_table['Client_Name'].map(function_word)"
   ]
  },
  {
   "cell_type": "code",
   "execution_count": 21,
   "metadata": {
    "collapsed": true
   },
   "outputs": [],
   "source": [
    "# CALL FILTER_REMAINING FUNCTION\n",
    "filter_remaining(client_table)"
   ]
  },
  {
   "cell_type": "code",
   "execution_count": 22,
   "metadata": {
    "collapsed": false
   },
   "outputs": [
    {
     "data": {
      "text/plain": [
       "Individual             353145\n",
       "NO IDENTIFICADO        281670\n",
       "Small Franchise        160501\n",
       "General Market/Mart     66416\n",
       "Eatery                  30419\n",
       "Supermarket             16019\n",
       "Oxxo Store               9313\n",
       "Hospital/Pharmacy        5798\n",
       "School                   5705\n",
       "Post                     2667\n",
       "Hotel                    1127\n",
       "Fresh Market             1069\n",
       "Govt Store                959\n",
       "Bimbo Store               320\n",
       "Walmart                   220\n",
       "Consignment                14\n",
       "Name: Client_Name, dtype: int64"
      ]
     },
     "execution_count": 22,
     "metadata": {},
     "output_type": "execute_result"
    }
   ],
   "source": [
    "# CALL VALUE COUNTS ON CLIENT NAME COLUMN\n",
    "client_table['Client_Name'].value_counts()"
   ]
  },
  {
   "cell_type": "code",
   "execution_count": 23,
   "metadata": {
    "collapsed": false
   },
   "outputs": [
    {
     "ename": "IOError",
     "evalue": "[Errno 2] No such file or directory: '/Users/OldMacBook/Desktop/School/General Assembly/DataScience/DAT-NYC-39/dataProject/Datasets/Client_Table_Filtered.csv'",
     "output_type": "error",
     "traceback": [
      "\u001b[0;31m---------------------------------------------------------------------------\u001b[0m",
      "\u001b[0;31mIOError\u001b[0m                                   Traceback (most recent call last)",
      "\u001b[0;32m<ipython-input-23-78d461ddd3f8>\u001b[0m in \u001b[0;36m<module>\u001b[0;34m()\u001b[0m\n\u001b[0;32m----> 1\u001b[0;31m \u001b[0mclient_table\u001b[0m\u001b[0;34m.\u001b[0m\u001b[0mto_csv\u001b[0m\u001b[0;34m(\u001b[0m\u001b[0;34m\"/Users/OldMacBook/Desktop/School/General Assembly/DataScience/DAT-NYC-39/dataProject/Datasets/Client_Table_Filtered.csv\"\u001b[0m\u001b[0;34m,\u001b[0m \u001b[0mindex\u001b[0m\u001b[0;34m=\u001b[0m\u001b[0mFalse\u001b[0m\u001b[0;34m)\u001b[0m\u001b[0;34m\u001b[0m\u001b[0m\n\u001b[0m",
      "\u001b[0;32m/Users/OldMacBook/anaconda/lib/python2.7/site-packages/pandas/core/frame.pyc\u001b[0m in \u001b[0;36mto_csv\u001b[0;34m(self, path_or_buf, sep, na_rep, float_format, columns, header, index, index_label, mode, encoding, compression, quoting, quotechar, line_terminator, chunksize, tupleize_cols, date_format, doublequote, escapechar, decimal)\u001b[0m\n\u001b[1;32m   1381\u001b[0m                                      \u001b[0mdoublequote\u001b[0m\u001b[0;34m=\u001b[0m\u001b[0mdoublequote\u001b[0m\u001b[0;34m,\u001b[0m\u001b[0;34m\u001b[0m\u001b[0m\n\u001b[1;32m   1382\u001b[0m                                      escapechar=escapechar, decimal=decimal)\n\u001b[0;32m-> 1383\u001b[0;31m         \u001b[0mformatter\u001b[0m\u001b[0;34m.\u001b[0m\u001b[0msave\u001b[0m\u001b[0;34m(\u001b[0m\u001b[0;34m)\u001b[0m\u001b[0;34m\u001b[0m\u001b[0m\n\u001b[0m\u001b[1;32m   1384\u001b[0m \u001b[0;34m\u001b[0m\u001b[0m\n\u001b[1;32m   1385\u001b[0m         \u001b[0;32mif\u001b[0m \u001b[0mpath_or_buf\u001b[0m \u001b[0;32mis\u001b[0m \u001b[0mNone\u001b[0m\u001b[0;34m:\u001b[0m\u001b[0;34m\u001b[0m\u001b[0m\n",
      "\u001b[0;32m/Users/OldMacBook/anaconda/lib/python2.7/site-packages/pandas/formats/format.pyc\u001b[0m in \u001b[0;36msave\u001b[0;34m(self)\u001b[0m\n\u001b[1;32m   1458\u001b[0m             f = _get_handle(self.path_or_buf, self.mode,\n\u001b[1;32m   1459\u001b[0m                             \u001b[0mencoding\u001b[0m\u001b[0;34m=\u001b[0m\u001b[0mself\u001b[0m\u001b[0;34m.\u001b[0m\u001b[0mencoding\u001b[0m\u001b[0;34m,\u001b[0m\u001b[0;34m\u001b[0m\u001b[0m\n\u001b[0;32m-> 1460\u001b[0;31m                             compression=self.compression)\n\u001b[0m\u001b[1;32m   1461\u001b[0m             \u001b[0mclose\u001b[0m \u001b[0;34m=\u001b[0m \u001b[0mTrue\u001b[0m\u001b[0;34m\u001b[0m\u001b[0m\n\u001b[1;32m   1462\u001b[0m \u001b[0;34m\u001b[0m\u001b[0m\n",
      "\u001b[0;32m/Users/OldMacBook/anaconda/lib/python2.7/site-packages/pandas/io/common.pyc\u001b[0m in \u001b[0;36m_get_handle\u001b[0;34m(path, mode, encoding, compression, memory_map)\u001b[0m\n\u001b[1;32m    332\u001b[0m                 \u001b[0mf\u001b[0m \u001b[0;34m=\u001b[0m \u001b[0mopen\u001b[0m\u001b[0;34m(\u001b[0m\u001b[0mpath\u001b[0m\u001b[0;34m,\u001b[0m \u001b[0mmode\u001b[0m\u001b[0;34m,\u001b[0m \u001b[0merrors\u001b[0m\u001b[0;34m=\u001b[0m\u001b[0;34m'replace'\u001b[0m\u001b[0;34m)\u001b[0m\u001b[0;34m\u001b[0m\u001b[0m\n\u001b[1;32m    333\u001b[0m         \u001b[0;32melse\u001b[0m\u001b[0;34m:\u001b[0m\u001b[0;34m\u001b[0m\u001b[0m\n\u001b[0;32m--> 334\u001b[0;31m             \u001b[0mf\u001b[0m \u001b[0;34m=\u001b[0m \u001b[0mopen\u001b[0m\u001b[0;34m(\u001b[0m\u001b[0mpath\u001b[0m\u001b[0;34m,\u001b[0m \u001b[0mmode\u001b[0m\u001b[0;34m)\u001b[0m\u001b[0;34m\u001b[0m\u001b[0m\n\u001b[0m\u001b[1;32m    335\u001b[0m \u001b[0;34m\u001b[0m\u001b[0m\n\u001b[1;32m    336\u001b[0m     \u001b[0;32mif\u001b[0m \u001b[0mmemory_map\u001b[0m \u001b[0;32mand\u001b[0m \u001b[0mhasattr\u001b[0m\u001b[0;34m(\u001b[0m\u001b[0mf\u001b[0m\u001b[0;34m,\u001b[0m \u001b[0;34m'fileno'\u001b[0m\u001b[0;34m)\u001b[0m\u001b[0;34m:\u001b[0m\u001b[0;34m\u001b[0m\u001b[0m\n",
      "\u001b[0;31mIOError\u001b[0m: [Errno 2] No such file or directory: '/Users/OldMacBook/Desktop/School/General Assembly/DataScience/DAT-NYC-39/dataProject/Datasets/Client_Table_Filtered.csv'"
     ]
    }
   ],
   "source": [
    "client_table.to_csv(\"/Users/OldMacBook/Desktop/School/General Assembly/DataScience/DAT-NYC-39/dataProject/Datasets/Client_Table_Filtered.csv\", index=False)"
   ]
  },
  {
   "cell_type": "code",
   "execution_count": null,
   "metadata": {
    "collapsed": false
   },
   "outputs": [],
   "source": [
    "#Import Product Table --> 2.6k\n",
    "product_table = pd.read_csv('Datasets/producto_tabla.csv', low_memory=False)\n",
    "product_table.columns = ['Product_ID', 'Product_Name']\n",
    "product_table.count()"
   ]
  },
  {
   "cell_type": "code",
   "execution_count": null,
   "metadata": {
    "collapsed": false
   },
   "outputs": [],
   "source": [
    "#Import Town_State table --> all\n",
    "town_state = pd.read_csv('Datasets/town_state.csv', low_memory=False)\n",
    "\n",
    "town_state.rename(columns = {'Agencia_ID':'Sales_Depot_ID'}, inplace=True)\n",
    "print town_state.head(100)"
   ]
  },
  {
   "cell_type": "code",
   "execution_count": null,
   "metadata": {
    "collapsed": true
   },
   "outputs": [],
   "source": [
    "#Table1: Merge train with client\n",
    "table1 = pd.merge(train_data, client_table, how = 'inner', on='Client_ID')"
   ]
  },
  {
   "cell_type": "code",
   "execution_count": null,
   "metadata": {
    "collapsed": false,
    "scrolled": false
   },
   "outputs": [],
   "source": [
    "#Table2: Merge table1 with product\n",
    "table2 = pd.merge(table1, product_table, how='inner', on='Product_ID')"
   ]
  },
  {
   "cell_type": "code",
   "execution_count": null,
   "metadata": {
    "collapsed": true
   },
   "outputs": [],
   "source": [
    "#Table3: Merge table2\n",
    "table3 = pd.merge(table2, town_state, how='inner', on='Sales_Depot_ID')"
   ]
  },
  {
   "cell_type": "code",
   "execution_count": null,
   "metadata": {
    "collapsed": true
   },
   "outputs": [],
   "source": [
    "#Table4: Push to CSV\n",
    "table3.to_csv(\"/Users/OldMacBook/Desktop/School/General Assembly/DataScience/DAT-NYC-39/dataProject/Datasets/SampleBimbo.csv\", index=False)"
   ]
  },
  {
   "cell_type": "code",
   "execution_count": null,
   "metadata": {
    "collapsed": true
   },
   "outputs": [],
   "source": []
  }
 ],
 "metadata": {
  "kernelspec": {
   "display_name": "Python 2",
   "language": "python",
   "name": "python2"
  },
  "language_info": {
   "codemirror_mode": {
    "name": "ipython",
    "version": 2
   },
   "file_extension": ".py",
   "mimetype": "text/x-python",
   "name": "python",
   "nbconvert_exporter": "python",
   "pygments_lexer": "ipython2",
   "version": "2.7.13"
  }
 },
 "nbformat": 4,
 "nbformat_minor": 0
}
